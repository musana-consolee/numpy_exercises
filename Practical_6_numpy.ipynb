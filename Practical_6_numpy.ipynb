{
 "cells": [
  {
   "cell_type": "markdown",
   "id": "bd6f6199",
   "metadata": {},
   "source": [
    "# Practical_6: Numpy"
   ]
  },
  {
   "cell_type": "markdown",
   "id": "de325ed6",
   "metadata": {},
   "source": [
    "---\n",
    "\n",
    "### Exercise 1:\n",
    "Create a NumPy array of integers from 1 to 10.\n"
   ]
  },
  {
   "cell_type": "code",
   "execution_count": 1,
   "id": "9b904697",
   "metadata": {},
   "outputs": [
    {
     "name": "stdout",
     "output_type": "stream",
     "text": [
      "NumPy array from 1 to 10: [ 1  2  3  4  5  6  7  8  9 10]\n"
     ]
    }
   ],
   "source": [
    "# Exercise 1\n",
    "\n",
    "import numpy as np\n",
    "\n",
    "array_1_to_10 = np.arange(1, 11)\n",
    "print(\"NumPy array from 1 to 10:\", array_1_to_10)\n"
   ]
  },
  {
   "cell_type": "markdown",
   "id": "745710c7",
   "metadata": {},
   "source": [
    "\n",
    "---\n",
    "\n",
    "### Exercise 2:\n",
    "Create a 3x3 NumPy array filled with zeros.\n"
   ]
  },
  {
   "cell_type": "code",
   "execution_count": 3,
   "id": "875235f1",
   "metadata": {},
   "outputs": [
    {
     "name": "stdout",
     "output_type": "stream",
     "text": [
      "3x3 array filled with zeros:\n",
      " [[0. 0. 0.]\n",
      " [0. 0. 0.]\n",
      " [0. 0. 0.]]\n"
     ]
    }
   ],
   "source": [
    "# Exercise 2\n",
    "zeros_array = np.zeros((3, 3))\n",
    "print(\"3x3 array filled with zeros:\\n\", zeros_array)\n"
   ]
  },
  {
   "cell_type": "markdown",
   "id": "a542ea80",
   "metadata": {},
   "source": [
    "\n",
    "---\n",
    "\n",
    "### Exercise 3:\n",
    "Create a NumPy array of 10 evenly spaced numbers between 0 and 5.\n"
   ]
  },
  {
   "cell_type": "code",
   "execution_count": 4,
   "id": "97c6ba4a",
   "metadata": {},
   "outputs": [
    {
     "name": "stdout",
     "output_type": "stream",
     "text": [
      "10 evenly spaced numbers between 0 and 5:\n",
      " [0.         0.55555556 1.11111111 1.66666667 2.22222222 2.77777778\n",
      " 3.33333333 3.88888889 4.44444444 5.        ]\n"
     ]
    }
   ],
   "source": [
    "# Exercise 3\n",
    "\n",
    "evenly_spaced = np.linspace(0, 5, 10)\n",
    "print(\"10 evenly spaced numbers between 0 and 5:\\n\", evenly_spaced)\n"
   ]
  },
  {
   "cell_type": "markdown",
   "id": "e92d80cc",
   "metadata": {},
   "source": [
    "\n",
    "---\n",
    "\n",
    "### Exercise 4:\n",
    "Create a 5x5 identity matrix using NumPy.\n"
   ]
  },
  {
   "cell_type": "code",
   "execution_count": 5,
   "id": "a0ee38cc-ca95-425f-84b0-152443763a39",
   "metadata": {},
   "outputs": [
    {
     "name": "stdout",
     "output_type": "stream",
     "text": [
      "5x5 Identity matrix:\n",
      " [[1. 0. 0. 0. 0.]\n",
      " [0. 1. 0. 0. 0.]\n",
      " [0. 0. 1. 0. 0.]\n",
      " [0. 0. 0. 1. 0.]\n",
      " [0. 0. 0. 0. 1.]]\n"
     ]
    }
   ],
   "source": [
    "# Exercise 4\n",
    "identity_matrix = np.eye(5)\n",
    "print(\"5x5 Identity matrix:\\n\", identity_matrix)"
   ]
  },
  {
   "cell_type": "markdown",
   "id": "a16f88e7",
   "metadata": {},
   "source": [
    "\n",
    "---\n",
    "\n",
    "### Exercise 5:\n",
    "Create a 4x4 matrix with random values between 0 and 1.\n"
   ]
  },
  {
   "cell_type": "code",
   "execution_count": 6,
   "id": "2b16922b",
   "metadata": {},
   "outputs": [
    {
     "name": "stdout",
     "output_type": "stream",
     "text": [
      "4x4 matrix with random values:\n",
      " [[0.69013737 0.7067195  0.45922156 0.20996165]\n",
      " [0.78333853 0.38111015 0.15828578 0.34127559]\n",
      " [0.11064385 0.50324888 0.16941807 0.7211502 ]\n",
      " [0.27813448 0.57683747 0.92464295 0.04157935]]\n"
     ]
    }
   ],
   "source": [
    "# Exercise 5\n",
    "\n",
    "random_matrix = np.random.rand(4, 4)\n",
    "print(\"4x4 matrix with random values:\\n\", random_matrix)\n"
   ]
  },
  {
   "cell_type": "markdown",
   "id": "cc9af8fd",
   "metadata": {},
   "source": [
    "\n",
    "---\n",
    "\n",
    "### Exercise 6:\n",
    "Find the shape of a NumPy array.\n"
   ]
  },
  {
   "cell_type": "code",
   "execution_count": 7,
   "id": "359864d2",
   "metadata": {},
   "outputs": [
    {
     "name": "stdout",
     "output_type": "stream",
     "text": [
      "Array:\n",
      " [[1 2 3]\n",
      " [4 5 6]]\n",
      "Shape of the array: (2, 3)\n"
     ]
    }
   ],
   "source": [
    "# Exercise 6\n",
    "array_example = np.array([[1, 2, 3], [4, 5, 6]])\n",
    "print(\"Array:\\n\", array_example)\n",
    "print(\"Shape of the array:\", array_example.shape)\n"
   ]
  },
  {
   "cell_type": "markdown",
   "id": "ada0aff6",
   "metadata": {},
   "source": [
    "\n",
    "---\n",
    "\n",
    "### Exercise 7:\n",
    "Reshape a 1D NumPy array of 16 elements into a 4x4 matrix.\n"
   ]
  },
  {
   "cell_type": "code",
   "execution_count": 8,
   "id": "43fcb4b3",
   "metadata": {},
   "outputs": [
    {
     "name": "stdout",
     "output_type": "stream",
     "text": [
      "Reshaped 4x4 array:\n",
      " [[ 0  1  2  3]\n",
      " [ 4  5  6  7]\n",
      " [ 8  9 10 11]\n",
      " [12 13 14 15]]\n"
     ]
    }
   ],
   "source": [
    "# Exercise 7\n",
    "array_1d = np.arange(16)\n",
    "reshaped_array = array_1d.reshape(4, 4)\n",
    "print(\"Reshaped 4x4 array:\\n\", reshaped_array)\n"
   ]
  },
  {
   "cell_type": "markdown",
   "id": "d384142a",
   "metadata": {},
   "source": [
    "\n",
    "---\n",
    "\n",
    "### Exercise 8:\n",
    "Find the data type of the elements in a NumPy array.\n"
   ]
  },
  {
   "cell_type": "code",
   "execution_count": 10,
   "id": "bf4dca5a",
   "metadata": {},
   "outputs": [
    {
     "name": "stdout",
     "output_type": "stream",
     "text": [
      "Data type of the array elements: int32\n"
     ]
    }
   ],
   "source": [
    "# Exercise 8\n",
    "datatype_array = np.array([1, 2, 3])\n",
    "print(\"Data type of the array elements:\", datatype_array.dtype)\n"
   ]
  },
  {
   "cell_type": "markdown",
   "id": "c295ca54",
   "metadata": {},
   "source": [
    "\n",
    "---\n",
    "\n",
    "### Exercise 9:\n",
    "Create a NumPy array of integers from 1 to 100 and find all even numbers in the array.\n"
   ]
  },
  {
   "cell_type": "code",
   "execution_count": 11,
   "id": "28a61c5e",
   "metadata": {},
   "outputs": [
    {
     "name": "stdout",
     "output_type": "stream",
     "text": [
      "Even numbers from 1 to 100:\n",
      " [  2   4   6   8  10  12  14  16  18  20  22  24  26  28  30  32  34  36\n",
      "  38  40  42  44  46  48  50  52  54  56  58  60  62  64  66  68  70  72\n",
      "  74  76  78  80  82  84  86  88  90  92  94  96  98 100]\n"
     ]
    }
   ],
   "source": [
    "# Exercise 9\n",
    "array_1_to_100 = np.arange(1, 101)\n",
    "even_numbers = array_1_to_100[array_1_to_100 % 2 == 0]\n",
    "print(\"Even numbers from 1 to 100:\\n\", even_numbers)\n"
   ]
  },
  {
   "cell_type": "markdown",
   "id": "72103956",
   "metadata": {},
   "source": [
    "\n",
    "---\n",
    "\n",
    "### Exercise 10:\n",
    "Generate a 6x6 matrix of random integers between 10 and 50.\n"
   ]
  },
  {
   "cell_type": "code",
   "execution_count": 12,
   "id": "ce04300e",
   "metadata": {},
   "outputs": [
    {
     "name": "stdout",
     "output_type": "stream",
     "text": [
      "6x6 matrix of random integers between 10 and 50:\n",
      " [[17 35 50 48 38 15]\n",
      " [25 24 48 24 40 48]\n",
      " [37 20 21 16 32 29]\n",
      " [18 10 38 27 22 18]\n",
      " [38 32 18 19 29 11]\n",
      " [49 25 22 24 23 40]]\n"
     ]
    }
   ],
   "source": [
    "# Exercise 10\n",
    "random_integers = np.random.randint(10, 51, size=(6, 6))\n",
    "print(\"6x6 matrix of random integers between 10 and 50:\\n\", random_integers)\n"
   ]
  },
  {
   "cell_type": "markdown",
   "id": "3dd1a085",
   "metadata": {},
   "source": [
    "\n",
    "---\n",
    "\n",
    "### Exercise 11:\n",
    "Slice a 2D NumPy array to extract a submatrix.\n"
   ]
  },
  {
   "cell_type": "code",
   "execution_count": 13,
   "id": "b8fc90ba",
   "metadata": {},
   "outputs": [
    {
     "name": "stdout",
     "output_type": "stream",
     "text": [
      "Original 5x5 matrix:\n",
      " [[ 1  2  3  4  5]\n",
      " [ 6  7  8  9 10]\n",
      " [11 12 13 14 15]\n",
      " [16 17 18 19 20]\n",
      " [21 22 23 24 25]]\n",
      "Extracted submatrix (3x3):\n",
      " [[ 7  8  9]\n",
      " [12 13 14]\n",
      " [17 18 19]]\n"
     ]
    }
   ],
   "source": [
    "# Exercise 11\n",
    "# Exercise 11\n",
    "original_matrix = np.arange(1, 26).reshape(5, 5)\n",
    "print(\"Original 5x5 matrix:\\n\", original_matrix)\n",
    "\n",
    "submatrix = original_matrix[1:4, 1:4]  # rows 1 to 3 and columns 1 to 3\n",
    "print(\"Extracted submatrix (3x3):\\n\", submatrix)"
   ]
  },
  {
   "cell_type": "markdown",
   "id": "73a4344c",
   "metadata": {},
   "source": [
    "\n",
    "---\n",
    "\n",
    "### Exercise 12:\n",
    "Calculate the sum of all elements in a NumPy array.\n"
   ]
  },
  {
   "cell_type": "code",
   "execution_count": 14,
   "id": "3c417ff3",
   "metadata": {},
   "outputs": [
    {
     "name": "stdout",
     "output_type": "stream",
     "text": [
      "Sum of all elements in the array: 10\n"
     ]
    }
   ],
   "source": [
    "# Exercise 12\n",
    "\n",
    "sum_array = np.array([[1, 2], [3, 4]])\n",
    "total_sum = np.sum(sum_array)\n",
    "print(\"Sum of all elements in the array:\", total_sum)\n"
   ]
  },
  {
   "cell_type": "markdown",
   "id": "c2346362",
   "metadata": {},
   "source": [
    "\n",
    "---\n",
    "\n",
    "### Exercise 13:\n",
    "Calculate the mean, median, and standard deviation of a NumPy array.\n"
   ]
  },
  {
   "cell_type": "code",
   "execution_count": 15,
   "id": "95e57182",
   "metadata": {},
   "outputs": [
    {
     "name": "stdout",
     "output_type": "stream",
     "text": [
      "Maximum value: 25\n",
      "Minimum value: 5\n"
     ]
    }
   ],
   "source": [
    "# Exercise 13\n",
    "\n",
    "array_sample = np.array([5, 10, 15, 20, 25])\n",
    "max_value = np.max(array_sample)\n",
    "min_value = np.min(array_sample)\n",
    "\n",
    "print(\"Maximum value:\", max_value)\n",
    "print(\"Minimum value:\", min_value)\n"
   ]
  },
  {
   "cell_type": "markdown",
   "id": "67a4fdbd",
   "metadata": {},
   "source": [
    "\n",
    "---\n",
    "\n",
    "### Exercise 14:\n",
    "Find the maximum and minimum values in a NumPy array.\n"
   ]
  },
  {
   "cell_type": "code",
   "execution_count": 16,
   "id": "7959c765",
   "metadata": {},
   "outputs": [
    {
     "name": "stdout",
     "output_type": "stream",
     "text": [
      "Mean: 3.5\n",
      "Median: 3.5\n",
      "Standard Deviation: 1.707825127659933\n"
     ]
    }
   ],
   "source": [
    "# Exercise 14\n",
    "data = np.array([1, 2, 3, 4, 5, 6])\n",
    "\n",
    "mean_val = np.mean(data)\n",
    "median_val = np.median(data)\n",
    "std_dev = np.std(data)\n",
    "\n",
    "print(\"Mean:\", mean_val)\n",
    "print(\"Median:\", median_val)\n",
    "print(\"Standard Deviation:\", std_dev)\n"
   ]
  },
  {
   "cell_type": "markdown",
   "id": "8a705cd1",
   "metadata": {},
   "source": [
    "\n",
    "---\n",
    "\n",
    "### Exercise 15:\n",
    "Create a NumPy array of 20 random integers and find the index of the maximum value.\n"
   ]
  },
  {
   "cell_type": "code",
   "execution_count": 17,
   "id": "c6748d73",
   "metadata": {},
   "outputs": [
    {
     "name": "stdout",
     "output_type": "stream",
     "text": [
      "30 is a multiple of 10.\n"
     ]
    }
   ],
   "source": [
    "# Exercise 15\n",
    "def is_multiple_of_10(number):\n",
    "    return number % 10 == 0\n",
    "\n",
    "# Example usage\n",
    "num = 30\n",
    "if is_multiple_of_10(num):\n",
    "    print(f\"{num} is a multiple of 10.\")\n",
    "else:\n",
    "    print(f\"{num} is NOT a multiple of 10.\")\n"
   ]
  },
  {
   "cell_type": "markdown",
   "id": "467ca6ac",
   "metadata": {},
   "source": [
    "\n",
    "---\n",
    "\n",
    "### Exercise 16:\n",
    "Create a NumPy array and reverse its elements.\n"
   ]
  },
  {
   "cell_type": "code",
   "execution_count": 18,
   "id": "0a178eb6",
   "metadata": {},
   "outputs": [
    {
     "name": "stdout",
     "output_type": "stream",
     "text": [
      "Reversed array: [5 4 3 2 1]\n"
     ]
    }
   ],
   "source": [
    "# Exercise 16\n",
    "import numpy as np\n",
    "\n",
    "arr = np.array([1, 2, 3, 4, 5])\n",
    "reversed_arr = arr[::-1]\n",
    "print(\"Reversed array:\", reversed_arr)\n"
   ]
  },
  {
   "cell_type": "markdown",
   "id": "b7d8ec92",
   "metadata": {},
   "source": [
    "\n",
    "---\n",
    "\n",
    "### Exercise 17:\n",
    "Create a 3x3 matrix and multiply it element-wise by another 3x3 matrix.\n"
   ]
  },
  {
   "cell_type": "code",
   "execution_count": 19,
   "id": "847ddc05",
   "metadata": {},
   "outputs": [
    {
     "name": "stdout",
     "output_type": "stream",
     "text": [
      "Element-wise multiplication:\n",
      " [[ 9 16 21]\n",
      " [24 25 24]\n",
      " [21 16  9]]\n"
     ]
    }
   ],
   "source": [
    "# Exercise 17\n",
    "a = np.array([[1, 2, 3], [4, 5, 6], [7, 8, 9]])\n",
    "b = np.array([[9, 8, 7], [6, 5, 4], [3, 2, 1]])\n",
    "result = a * b\n",
    "print(\"Element-wise multiplication:\\n\", result)\n"
   ]
  },
  {
   "cell_type": "markdown",
   "id": "58512446",
   "metadata": {},
   "source": [
    "\n",
    "---\n",
    "\n",
    "### Exercise 18:\n",
    "Create a diagonal matrix from a given 1D array.\n"
   ]
  },
  {
   "cell_type": "code",
   "execution_count": 20,
   "id": "bd7e9321",
   "metadata": {},
   "outputs": [
    {
     "name": "stdout",
     "output_type": "stream",
     "text": [
      "Diagonal matrix:\n",
      " [[10  0  0]\n",
      " [ 0 20  0]\n",
      " [ 0  0 30]]\n"
     ]
    }
   ],
   "source": [
    "# Exercise 18\n",
    "arr = np.array([10, 20, 30])\n",
    "diag_matrix = np.diag(arr)\n",
    "print(\"Diagonal matrix:\\n\", diag_matrix)\n"
   ]
  },
  {
   "cell_type": "markdown",
   "id": "10be19e0",
   "metadata": {},
   "source": [
    "\n",
    "---\n",
    "\n",
    "### Exercise 19:\n",
    "Perform matrix multiplication on two 2D NumPy arrays.\n"
   ]
  },
  {
   "cell_type": "code",
   "execution_count": 21,
   "id": "c287973c",
   "metadata": {},
   "outputs": [
    {
     "name": "stdout",
     "output_type": "stream",
     "text": [
      "Matrix multiplication result:\n",
      " [[19 22]\n",
      " [43 50]]\n"
     ]
    }
   ],
   "source": [
    "# Exercise 19\n",
    "A = np.array([[1, 2], [3, 4]])\n",
    "B = np.array([[5, 6], [7, 8]])\n",
    "product = np.dot(A, B)\n",
    "print(\"Matrix multiplication result:\\n\", product)\n"
   ]
  },
  {
   "cell_type": "markdown",
   "id": "932aa100",
   "metadata": {},
   "source": [
    "\n",
    "---\n",
    "\n",
    "### Exercise 20:\n",
    "Flatten a 2D NumPy array into a 1D array.\n"
   ]
  },
  {
   "cell_type": "code",
   "execution_count": 22,
   "id": "0b2a7505",
   "metadata": {},
   "outputs": [
    {
     "name": "stdout",
     "output_type": "stream",
     "text": [
      "Flattened array: [1 2 3 4]\n"
     ]
    }
   ],
   "source": [
    "# Exercise 20\n",
    "matrix = np.array([[1, 2], [3, 4]])\n",
    "flattened = matrix.flatten()\n",
    "print(\"Flattened array:\", flattened)\n"
   ]
  },
  {
   "cell_type": "markdown",
   "id": "43e4204e",
   "metadata": {},
   "source": [
    "\n",
    "---\n",
    "\n",
    "### Exercise 21:\n",
    "Stack two NumPy arrays vertically.\n"
   ]
  },
  {
   "cell_type": "code",
   "execution_count": 23,
   "id": "2fab6ed6",
   "metadata": {},
   "outputs": [
    {
     "name": "stdout",
     "output_type": "stream",
     "text": [
      "Vertically stacked:\n",
      " [[1 2 3]\n",
      " [4 5 6]]\n"
     ]
    }
   ],
   "source": [
    "# Exercise 21\n",
    "a = np.array([1, 2, 3])\n",
    "b = np.array([4, 5, 6])\n",
    "vstacked = np.vstack((a, b))\n",
    "print(\"Vertically stacked:\\n\", vstacked)\n"
   ]
  },
  {
   "cell_type": "markdown",
   "id": "54a62aed",
   "metadata": {},
   "source": [
    "\n",
    "---\n",
    "\n",
    "### Exercise 22:\n",
    "Stack two NumPy arrays horizontally.\n"
   ]
  },
  {
   "cell_type": "code",
   "execution_count": 24,
   "id": "38c62fcb",
   "metadata": {},
   "outputs": [
    {
     "name": "stdout",
     "output_type": "stream",
     "text": [
      "Horizontally stacked:\n",
      " [1 2 3 4 5 6]\n"
     ]
    }
   ],
   "source": [
    "# Exercise 22\n",
    "hstacked = np.hstack((a, b))\n",
    "print(\"Horizontally stacked:\\n\", hstacked)\n"
   ]
  },
  {
   "cell_type": "markdown",
   "id": "348ee442",
   "metadata": {},
   "source": [
    "\n",
    "---\n",
    "\n",
    "### Exercise 23:\n",
    "Split a NumPy array into multiple sub-arrays.\n"
   ]
  },
  {
   "cell_type": "code",
   "execution_count": 25,
   "id": "bb591997",
   "metadata": {},
   "outputs": [
    {
     "name": "stdout",
     "output_type": "stream",
     "text": [
      "Split arrays: [array([1, 2]), array([3, 4]), array([5, 6])]\n"
     ]
    }
   ],
   "source": [
    "# Exercise 23\n",
    "arr = np.array([1, 2, 3, 4, 5, 6])\n",
    "split_arr = np.split(arr, 3)\n",
    "print(\"Split arrays:\", split_arr)\n"
   ]
  },
  {
   "cell_type": "markdown",
   "id": "b1f38f5f",
   "metadata": {},
   "source": [
    "\n",
    "---\n",
    "\n",
    "### Exercise 24:\n",
    "Generate a random NumPy array and round each element to two decimal places.\n"
   ]
  },
  {
   "cell_type": "code",
   "execution_count": 26,
   "id": "9627a34c",
   "metadata": {},
   "outputs": [
    {
     "name": "stdout",
     "output_type": "stream",
     "text": [
      "Rounded array:\n",
      " [[0.77 0.96 0.66]\n",
      " [0.76 0.45 0.87]\n",
      " [0.27 0.97 0.13]]\n"
     ]
    }
   ],
   "source": [
    "# Exercise 24\n",
    "random_array = np.random.rand(3, 3)\n",
    "rounded = np.round(random_array, 2)\n",
    "print(\"Rounded array:\\n\", rounded)\n"
   ]
  },
  {
   "cell_type": "markdown",
   "id": "33eff49a",
   "metadata": {},
   "source": [
    "\n",
    "---\n",
    "\n",
    "### Exercise 25:\n",
    "Find the unique elements of a NumPy array.\n"
   ]
  },
  {
   "cell_type": "code",
   "execution_count": 27,
   "id": "820d6014",
   "metadata": {},
   "outputs": [
    {
     "name": "stdout",
     "output_type": "stream",
     "text": [
      "Unique elements: [1 2 3 4 5]\n"
     ]
    }
   ],
   "source": [
    "# Exercise 25\n",
    "arr = np.array([1, 2, 2, 3, 4, 4, 5])\n",
    "unique_elements = np.unique(arr)\n",
    "print(\"Unique elements:\", unique_elements)\n"
   ]
  },
  {
   "cell_type": "markdown",
   "id": "a82dfd26",
   "metadata": {},
   "source": [
    "\n",
    "---\n",
    "\n",
    "### Exercise 26:\n",
    "Replace all elements in a NumPy array that are less than a specific value with that value.\n"
   ]
  },
  {
   "cell_type": "code",
   "execution_count": 28,
   "id": "9317d8ff",
   "metadata": {},
   "outputs": [
    {
     "name": "stdout",
     "output_type": "stream",
     "text": [
      "Modified array: [3 5 3 8 3]\n"
     ]
    }
   ],
   "source": [
    "# Exercise 26\n",
    "arr = np.array([2, 5, 1, 8, 0])\n",
    "arr[arr < 3] = 3\n",
    "print(\"Modified array:\", arr)\n"
   ]
  },
  {
   "cell_type": "markdown",
   "id": "0b211e1c",
   "metadata": {},
   "source": [
    "\n",
    "---\n",
    "\n",
    "### Exercise 27:\n",
    "Find the cumulative sum of the elements in a NumPy array.\n"
   ]
  },
  {
   "cell_type": "code",
   "execution_count": 29,
   "id": "d03b7264",
   "metadata": {},
   "outputs": [
    {
     "name": "stdout",
     "output_type": "stream",
     "text": [
      "Cumulative sum: [ 1  3  6 10]\n"
     ]
    }
   ],
   "source": [
    "# Exercise 27\n",
    "arr = np.array([1, 2, 3, 4])\n",
    "cumsum = np.cumsum(arr)\n",
    "print(\"Cumulative sum:\", cumsum)"
   ]
  },
  {
   "cell_type": "markdown",
   "id": "837642b7",
   "metadata": {},
   "source": [
    "\n",
    "---\n",
    "\n",
    "### Exercise 28:\n",
    "Create a NumPy array and find the number of non-zero elements in it.\n"
   ]
  },
  {
   "cell_type": "code",
   "execution_count": 30,
   "id": "fa2565c6",
   "metadata": {},
   "outputs": [
    {
     "name": "stdout",
     "output_type": "stream",
     "text": [
      "Number of non-zero elements: 3\n"
     ]
    }
   ],
   "source": [
    "# Exercise 28\n",
    "arr = np.array([0, 1, 2, 0, 3])\n",
    "nonzeros = np.count_nonzero(arr)\n",
    "print(\"Number of non-zero elements:\", nonzeros)\n"
   ]
  },
  {
   "cell_type": "markdown",
   "id": "7d1f3704",
   "metadata": {},
   "source": [
    "\n",
    "---\n",
    "\n",
    "### Exercise 29:\n",
    "Create a NumPy array of random integers and sort it in ascending order.\n"
   ]
  },
  {
   "cell_type": "code",
   "execution_count": 31,
   "id": "dfa23a6e",
   "metadata": {},
   "outputs": [
    {
     "name": "stdout",
     "output_type": "stream",
     "text": [
      "Sorted array: [ 4  8 11 20 43 71 73 79 80 95]\n"
     ]
    }
   ],
   "source": [
    "# Exercise 29\n",
    "arr = np.random.randint(0, 100, size=10)\n",
    "sorted_arr = np.sort(arr)\n",
    "print(\"Sorted array:\", sorted_arr)\n"
   ]
  },
  {
   "cell_type": "markdown",
   "id": "295b7ea8",
   "metadata": {},
   "source": [
    "\n",
    "---\n",
    "\n",
    "### Exercise 30:\n",
    "Find the row-wise and column-wise sum of a 3x3 matrix.\n"
   ]
  },
  {
   "cell_type": "code",
   "execution_count": 32,
   "id": "963df701",
   "metadata": {},
   "outputs": [
    {
     "name": "stdout",
     "output_type": "stream",
     "text": [
      "Row-wise sum: [ 6 15 24]\n",
      "Column-wise sum: [12 15 18]\n"
     ]
    }
   ],
   "source": [
    "# Exercise 30\n",
    "matrix = np.array([[1, 2, 3], [4, 5, 6], [7, 8, 9]])\n",
    "row_sum = matrix.sum(axis=1)\n",
    "col_sum = matrix.sum(axis=0)\n",
    "print(\"Row-wise sum:\", row_sum)\n",
    "print(\"Column-wise sum:\", col_sum)\n"
   ]
  },
  {
   "cell_type": "markdown",
   "id": "158756fa",
   "metadata": {},
   "source": [
    "\n",
    "---\n",
    "\n",
    "### Exercise 31:\n",
    "Generate a 2D NumPy array with random values and normalize it (scale the values between 0 and 1).\n"
   ]
  },
  {
   "cell_type": "code",
   "execution_count": 33,
   "id": "32ba8b29",
   "metadata": {},
   "outputs": [
    {
     "name": "stdout",
     "output_type": "stream",
     "text": [
      "Normalized array:\n",
      " [[0.91972201 0.9111729  0.88771062]\n",
      " [0.77048217 0.         0.95529754]\n",
      " [1.         0.0726544  0.11523474]]\n"
     ]
    }
   ],
   "source": [
    "# Exercise 31\n",
    "arr = np.random.rand(3, 3) * 100\n",
    "normalized = (arr - arr.min()) / (arr.max() - arr.min())\n",
    "print(\"Normalized array:\\n\", normalized)\n"
   ]
  },
  {
   "cell_type": "markdown",
   "id": "d3eeceaa",
   "metadata": {},
   "source": [
    "\n",
    "---\n",
    "\n",
    "### Exercise 32:\n",
    "Create two NumPy arrays and find the dot product.\n"
   ]
  },
  {
   "cell_type": "code",
   "execution_count": 34,
   "id": "5722e16b",
   "metadata": {},
   "outputs": [
    {
     "name": "stdout",
     "output_type": "stream",
     "text": [
      "Dot product: 32\n"
     ]
    }
   ],
   "source": [
    "# Exercise 32\n",
    "a = np.array([1, 2, 3])\n",
    "b = np.array([4, 5, 6])\n",
    "dot_product = np.dot(a, b)\n",
    "print(\"Dot product:\", dot_product)\n"
   ]
  },
  {
   "cell_type": "markdown",
   "id": "5b0c848f",
   "metadata": {},
   "source": [
    "\n",
    "---\n",
    "\n",
    "### Exercise 33:\n",
    "Find the trace of a square NumPy matrix.\n"
   ]
  },
  {
   "cell_type": "code",
   "execution_count": 36,
   "id": "6d6e90c2",
   "metadata": {},
   "outputs": [
    {
     "name": "stdout",
     "output_type": "stream",
     "text": [
      "Trace of matrix: 5\n"
     ]
    }
   ],
   "source": [
    "# Exercise 33\n",
    "matrix = np.array([[1, 2], [3, 4]])\n",
    "trace = np.trace(matrix)\n",
    "print(\"Trace of matrix:\", trace)\n"
   ]
  },
  {
   "cell_type": "markdown",
   "id": "74f1f77e",
   "metadata": {},
   "source": [
    "\n",
    "---\n",
    "\n",
    "### Exercise 34:\n",
    "Create a 2D array and swap two rows.\n"
   ]
  },
  {
   "cell_type": "code",
   "execution_count": 35,
   "id": "24621129",
   "metadata": {},
   "outputs": [
    {
     "name": "stdout",
     "output_type": "stream",
     "text": [
      "Array after swapping rows:\n",
      " [[3 4]\n",
      " [1 2]]\n"
     ]
    }
   ],
   "source": [
    "# Exercise 34\n",
    "arr = np.array([[1, 2], [3, 4]])\n",
    "arr[[0, 1]] = arr[[1, 0]]\n",
    "print(\"Array after swapping rows:\\n\", arr)\n"
   ]
  },
  {
   "cell_type": "markdown",
   "id": "7875d348",
   "metadata": {},
   "source": [
    "\n",
    "---\n",
    "\n",
    "### Exercise 35:\n",
    "Create a 1D NumPy array and convert it into a column vector.\n"
   ]
  },
  {
   "cell_type": "code",
   "execution_count": 37,
   "id": "0039acda",
   "metadata": {},
   "outputs": [
    {
     "name": "stdout",
     "output_type": "stream",
     "text": [
      "Column vector:\n",
      " [[1]\n",
      " [2]\n",
      " [3]]\n"
     ]
    }
   ],
   "source": [
    "# Exercise 35\n",
    "arr = np.array([1, 2, 3])\n",
    "column_vector = arr.reshape(-1, 1)\n",
    "print(\"Column vector:\\n\", column_vector)\n"
   ]
  },
  {
   "cell_type": "markdown",
   "id": "234e605c",
   "metadata": {},
   "source": [
    "\n",
    "---\n",
    "\n",
    "### Exercise 36:\n",
    "Find the determinant of a 3x3 matrix.\n"
   ]
  },
  {
   "cell_type": "code",
   "execution_count": 38,
   "id": "9798d9c7",
   "metadata": {},
   "outputs": [
    {
     "name": "stdout",
     "output_type": "stream",
     "text": [
      "Determinant: 0.9999999999999987\n"
     ]
    }
   ],
   "source": [
    "# Exercise 36\n",
    "matrix = np.array([[1, 2, 3], [0, 1, 4], [5, 6, 0]])\n",
    "det = np.linalg.det(matrix)\n",
    "print(\"Determinant:\", det)\n"
   ]
  },
  {
   "cell_type": "markdown",
   "id": "6656af00",
   "metadata": {},
   "source": [
    "\n",
    "---\n",
    "\n",
    "### Exercise 37:\n",
    "Find the eigenvalues and eigenvectors of a 2x2 matrix.\n"
   ]
  },
  {
   "cell_type": "code",
   "execution_count": 39,
   "id": "89d64421",
   "metadata": {},
   "outputs": [
    {
     "name": "stdout",
     "output_type": "stream",
     "text": [
      "Eigenvalues: [3. 1.]\n",
      "Eigenvectors:\n",
      " [[ 0.70710678 -0.70710678]\n",
      " [ 0.70710678  0.70710678]]\n"
     ]
    }
   ],
   "source": [
    "# Exercise 37\n",
    "matrix = np.array([[2, 1], [1, 2]])\n",
    "eigenvalues, eigenvectors = np.linalg.eig(matrix)\n",
    "print(\"Eigenvalues:\", eigenvalues)\n",
    "print(\"Eigenvectors:\\n\", eigenvectors)\n"
   ]
  },
  {
   "cell_type": "markdown",
   "id": "7dc92bbb",
   "metadata": {},
   "source": [
    "\n",
    "---\n",
    "\n",
    "### Exercise 38:\n",
    "Solve a system of linear equations using NumPy.\n"
   ]
  },
  {
   "cell_type": "code",
   "execution_count": 40,
   "id": "9aad2d7e",
   "metadata": {},
   "outputs": [
    {
     "name": "stdout",
     "output_type": "stream",
     "text": [
      "Solution (x, y): [2. 3.]\n"
     ]
    }
   ],
   "source": [
    "# Exercise 38\n",
    "A = np.array([[3, 1], [1, 2]])\n",
    "b = np.array([9, 8])\n",
    "solution = np.linalg.solve(A, b)\n",
    "print(\"Solution (x, y):\", solution)\n"
   ]
  },
  {
   "cell_type": "markdown",
   "id": "4f146ae7",
   "metadata": {},
   "source": [
    "\n",
    "---\n",
    "\n",
    "### Exercise 39:\n",
    "Add Gaussian noise to a NumPy array.\n"
   ]
  },
  {
   "cell_type": "code",
   "execution_count": 41,
   "id": "1162c82d",
   "metadata": {},
   "outputs": [
    {
     "name": "stdout",
     "output_type": "stream",
     "text": [
      "Array with Gaussian noise: [11.28401972 21.76199589 29.56469012]\n"
     ]
    }
   ],
   "source": [
    "# Exercise 39\n",
    "arr = np.array([10, 20, 30])\n",
    "noise = np.random.normal(0, 1, arr.shape)\n",
    "noisy_arr = arr + noise\n",
    "print(\"Array with Gaussian noise:\", noisy_arr)\n"
   ]
  },
  {
   "cell_type": "markdown",
   "id": "24f6d12f",
   "metadata": {},
   "source": [
    "\n",
    "---\n",
    "\n",
    "### Exercise 40:\n",
    "Create a 4x4 matrix and extract the diagonal elements.\n"
   ]
  },
  {
   "cell_type": "code",
   "execution_count": 42,
   "id": "228d823c",
   "metadata": {},
   "outputs": [
    {
     "name": "stdout",
     "output_type": "stream",
     "text": [
      "Diagonal elements: [ 1  6 11 16]\n"
     ]
    }
   ],
   "source": [
    "# Exercise 40\n",
    "matrix = np.arange(1, 17).reshape(4, 4)\n",
    "diagonal = np.diag(matrix)\n",
    "print(\"Diagonal elements:\", diagonal)\n"
   ]
  },
  {
   "cell_type": "markdown",
   "id": "6fe4e0e1",
   "metadata": {},
   "source": [
    "\n",
    "---\n",
    "\n",
    "### Exercise 41:\n",
    "Generate a NumPy array of 100 random values and clip the values to a range between 10 and 50.\n"
   ]
  },
  {
   "cell_type": "code",
   "execution_count": 43,
   "id": "250c818c",
   "metadata": {},
   "outputs": [
    {
     "name": "stdout",
     "output_type": "stream",
     "text": [
      "Clipped array:\n",
      " [34 36 30 50 50 50 47 50 30 16 17 27 30 50 50 28 50 50 16 50 50 19 50 10\n",
      " 10 50 10 10 10 50 50 31 10 19 46 50 50 50 34 50 37 50 46 50 10 40 50 50\n",
      " 10 10 41 50 50 34 50 30 17 36 21 44 20 46 36 50 50 10 13 10 50 50 50 24\n",
      " 50 10 38 50 50 16 18 50 50 50 50 50 50 50 30 50 50 10 50 50 22 11 50 50\n",
      " 23 21 11 50]\n"
     ]
    }
   ],
   "source": [
    "# Exercise 41\n",
    "arr = np.random.randint(0, 100, size=100)\n",
    "clipped = np.clip(arr, 10, 50)\n",
    "print(\"Clipped array:\\n\", clipped)\n"
   ]
  },
  {
   "cell_type": "markdown",
   "id": "0aa4963a",
   "metadata": {},
   "source": [
    "\n",
    "---\n",
    "\n",
    "### Exercise 42:\n",
    "Create a 2D NumPy array and replace all negative values with zero.\n"
   ]
  },
  {
   "cell_type": "code",
   "execution_count": 44,
   "id": "c33cf5e2",
   "metadata": {},
   "outputs": [
    {
     "name": "stdout",
     "output_type": "stream",
     "text": [
      "Array with negatives replaced:\n",
      " [[1 0 3]\n",
      " [0 5 0]]\n"
     ]
    }
   ],
   "source": [
    "# Exercise 42\n",
    "arr = np.array([[1, -2, 3], [-4, 5, -6]])\n",
    "arr[arr < 0] = 0\n",
    "print(\"Array with negatives replaced:\\n\", arr)\n"
   ]
  },
  {
   "cell_type": "markdown",
   "id": "9902ee70",
   "metadata": {},
   "source": [
    "\n",
    "---\n",
    "\n",
    "### Exercise 43:\n",
    "Find the inner and outer products of two NumPy arrays.\n"
   ]
  },
  {
   "cell_type": "code",
   "execution_count": 45,
   "id": "36f488c8",
   "metadata": {},
   "outputs": [
    {
     "name": "stdout",
     "output_type": "stream",
     "text": [
      "Inner product: 11\n",
      "Outer product:\n",
      " [[3 4]\n",
      " [6 8]]\n"
     ]
    }
   ],
   "source": [
    "# Exercise 43\n",
    "a = np.array([1, 2])\n",
    "b = np.array([3, 4])\n",
    "inner = np.inner(a, b)\n",
    "outer = np.outer(a, b)\n",
    "print(\"Inner product:\", inner)\n",
    "print(\"Outer product:\\n\", outer)\n"
   ]
  },
  {
   "cell_type": "markdown",
   "id": "7dce9fa3",
   "metadata": {},
   "source": [
    "\n",
    "---\n",
    "\n",
    "### Exercise 44:\n",
    "Calculate the pairwise distances between points in a NumPy array.\n"
   ]
  },
  {
   "cell_type": "code",
   "execution_count": 46,
   "id": "94067655",
   "metadata": {},
   "outputs": [
    {
     "name": "stdout",
     "output_type": "stream",
     "text": [
      "Pairwise distances:\n",
      " [[0.         1.41421356 2.82842712]\n",
      " [1.41421356 0.         1.41421356]\n",
      " [2.82842712 1.41421356 0.        ]]\n"
     ]
    }
   ],
   "source": [
    "# Exercise 44\n",
    "from scipy.spatial.distance import pdist, squareform\n",
    "\n",
    "points = np.array([[0, 0], [1, 1], [2, 2]])\n",
    "pairwise_dist = squareform(pdist(points))\n",
    "print(\"Pairwise distances:\\n\", pairwise_dist)\n"
   ]
  },
  {
   "cell_type": "markdown",
   "id": "d4b272d3",
   "metadata": {},
   "source": [
    "\n",
    "---\n",
    "\n",
    "### Exercise 45:\n",
    "Create a structured NumPy array with fields for `name`, `age`, and `height`.\n"
   ]
  },
  {
   "cell_type": "code",
   "execution_count": 47,
   "id": "9b18e4f0",
   "metadata": {},
   "outputs": [
    {
     "name": "stdout",
     "output_type": "stream",
     "text": [
      "Structured array: [('Alice', 25, 5.5) ('Bob', 30, 6. )]\n"
     ]
    }
   ],
   "source": [
    "# Exercise 45\n",
    "data = np.array([\n",
    "    ('Alice', 25, 5.5),\n",
    "    ('Bob', 30, 6.0)\n",
    "], dtype=[('name', 'U10'), ('age', 'i4'), ('height', 'f4')])\n",
    "\n",
    "print(\"Structured array:\", data)\n"
   ]
  },
  {
   "cell_type": "markdown",
   "id": "577f3e80",
   "metadata": {},
   "source": [
    "\n",
    "---\n",
    "\n",
    "### Exercise 46:\n",
    "Create a 5x5 matrix of random integers and count the occurrences of each unique value.\n"
   ]
  },
  {
   "cell_type": "code",
   "execution_count": 48,
   "id": "639b01fd",
   "metadata": {},
   "outputs": [
    {
     "name": "stdout",
     "output_type": "stream",
     "text": [
      "Matrix:\n",
      " [[1 1 0 6 4]\n",
      " [5 2 5 9 9]\n",
      " [7 9 5 2 6]\n",
      " [1 0 7 0 4]\n",
      " [6 1 1 0 4]]\n",
      "Value counts: {0: 4, 1: 5, 2: 2, 4: 3, 5: 3, 6: 3, 7: 2, 9: 3}\n"
     ]
    }
   ],
   "source": [
    "# Exercise 46\n",
    "arr = np.random.randint(0, 10, size=(5, 5))\n",
    "unique, counts = np.unique(arr, return_counts=True)\n",
    "print(\"Matrix:\\n\", arr)\n",
    "print(\"Value counts:\", dict(zip(unique, counts)))\n"
   ]
  },
  {
   "cell_type": "markdown",
   "id": "e716555f",
   "metadata": {},
   "source": [
    "\n",
    "---\n",
    "\n",
    "### Exercise 47:\n",
    "Generate a random 3x3 NumPy array and subtract the mean of each row from the corresponding row.\n"
   ]
  },
  {
   "cell_type": "code",
   "execution_count": 49,
   "id": "03747d27",
   "metadata": {},
   "outputs": [
    {
     "name": "stdout",
     "output_type": "stream",
     "text": [
      "Original array:\n",
      " [[0.29592777 0.80738858 0.69054129]\n",
      " [0.05380689 0.25714336 0.91134106]\n",
      " [0.29227058 0.14022042 0.19880751]]\n",
      "Row-centered array:\n",
      " [[-0.30202478  0.20943603  0.09258875]\n",
      " [-0.35362355 -0.15028708  0.50391062]\n",
      " [ 0.08183774 -0.07021241 -0.01162533]]\n"
     ]
    }
   ],
   "source": [
    "# Exercise 47\n",
    "arr = np.random.rand(3, 3)\n",
    "row_means = arr.mean(axis=1, keepdims=True)\n",
    "centered = arr - row_means\n",
    "print(\"Original array:\\n\", arr)\n",
    "print(\"Row-centered array:\\n\", centered)\n"
   ]
  },
  {
   "cell_type": "markdown",
   "id": "89148fb1",
   "metadata": {},
   "source": [
    "\n",
    "---\n",
    "\n",
    "### Exercise 48:\n",
    "Create a NumPy array of random integers and check if any of the values are greater than 50.\n"
   ]
  },
  {
   "cell_type": "code",
   "execution_count": 50,
   "id": "d329ca63",
   "metadata": {},
   "outputs": [
    {
     "name": "stdout",
     "output_type": "stream",
     "text": [
      "Array: [37 79  2 71  7 24 54 79 89 19]\n",
      "Any value > 50: True\n"
     ]
    }
   ],
   "source": [
    "# Exercise 48\n",
    "arr = np.random.randint(0, 100, size=10)\n",
    "condition = np.any(arr > 50)\n",
    "print(\"Array:\", arr)\n",
    "print(\"Any value > 50:\", condition)\n"
   ]
  },
  {
   "cell_type": "markdown",
   "id": "806622f5",
   "metadata": {},
   "source": [
    "\n",
    "---\n",
    "\n",
    "### Exercise 49:\n",
    "Calculate the moving average of a 1D NumPy array.\n"
   ]
  },
  {
   "cell_type": "code",
   "execution_count": 51,
   "id": "866232ff",
   "metadata": {},
   "outputs": [
    {
     "name": "stdout",
     "output_type": "stream",
     "text": [
      "Moving average: [2. 3. 4.]\n"
     ]
    }
   ],
   "source": [
    "# Exercise 49\n",
    "arr = np.array([1, 2, 3, 4, 5])\n",
    "window_size = 3\n",
    "moving_avg = np.convolve(arr, np.ones(window_size)/window_size, mode='valid')\n",
    "print(\"Moving average:\", moving_avg)\n"
   ]
  },
  {
   "cell_type": "markdown",
   "id": "9313446b",
   "metadata": {},
   "source": [
    "\n",
    "---\n",
    "\n",
    "### Exercise 50:\n",
    "Find the Pearson correlation coefficient between two NumPy arrays.\n"
   ]
  },
  {
   "cell_type": "code",
   "execution_count": 52,
   "id": "09c184ab",
   "metadata": {},
   "outputs": [
    {
     "name": "stdout",
     "output_type": "stream",
     "text": [
      "Pearson correlation coefficient: -1.0\n"
     ]
    }
   ],
   "source": [
    "# Exercise 50\n",
    "a = np.array([1, 2, 3, 4])\n",
    "b = np.array([4, 3, 2, 1])\n",
    "correlation = np.corrcoef(a, b)[0, 1]\n",
    "print(\"Pearson correlation coefficient:\", correlation)\n"
   ]
  },
  {
   "cell_type": "markdown",
   "id": "8ee11395",
   "metadata": {},
   "source": [
    "\n",
    "---\n",
    "\n",
    "### Exercise 51:\n",
    "Convert a NumPy array of radians to degrees.\n"
   ]
  },
  {
   "cell_type": "code",
   "execution_count": 53,
   "id": "34ac5b8c",
   "metadata": {},
   "outputs": [
    {
     "name": "stdout",
     "output_type": "stream",
     "text": [
      "Degrees: [  0.  90. 180.]\n"
     ]
    }
   ],
   "source": [
    "# Exercise 51\n",
    "radians = np.array([0, np.pi/2, np.pi])\n",
    "degrees = np.degrees(radians)\n",
    "print(\"Degrees:\", degrees)\n"
   ]
  },
  {
   "cell_type": "markdown",
   "id": "f4fd9563",
   "metadata": {},
   "source": [
    "\n",
    "---\n",
    "\n",
    "### Exercise 52:\n",
    "Create a random NumPy array and compute its variance and standard deviation.\n"
   ]
  },
  {
   "cell_type": "code",
   "execution_count": 54,
   "id": "0559791a",
   "metadata": {},
   "outputs": [
    {
     "name": "stdout",
     "output_type": "stream",
     "text": [
      "Variance: 0.04604343507582005\n",
      "Standard Deviation: 0.21457734054606056\n"
     ]
    }
   ],
   "source": [
    "# Exercise 52\n",
    "arr = np.random.rand(10)\n",
    "variance = np.var(arr)\n",
    "std_dev = np.std(arr)\n",
    "print(\"Variance:\", variance)\n",
    "print(\"Standard Deviation:\", std_dev)\n"
   ]
  },
  {
   "cell_type": "markdown",
   "id": "b5bed93d",
   "metadata": {},
   "source": [
    "\n",
    "---\n",
    "\n",
    "### Exercise 53:\n",
    "Create a 2D NumPy array and find the indices of the maximum values along each axis.\n"
   ]
  },
  {
   "cell_type": "code",
   "execution_count": 55,
   "id": "37168529",
   "metadata": {},
   "outputs": [
    {
     "name": "stdout",
     "output_type": "stream",
     "text": [
      "Array:\n",
      " [[0.32757071 0.88793291 0.0909148 ]\n",
      " [0.53631535 0.71461857 0.23022324]\n",
      " [0.64140895 0.97749694 0.72847102]]\n",
      "Row max indices: [1 1 1]\n",
      "Column max indices: [2 2 2]\n"
     ]
    }
   ],
   "source": [
    "# Exercise 53\n",
    "arr = np.random.rand(3, 3)\n",
    "row_max_indices = np.argmax(arr, axis=1)\n",
    "col_max_indices = np.argmax(arr, axis=0)\n",
    "print(\"Array:\\n\", arr)\n",
    "print(\"Row max indices:\", row_max_indices)\n",
    "print(\"Column max indices:\", col_max_indices)\n"
   ]
  },
  {
   "cell_type": "markdown",
   "id": "fd672293",
   "metadata": {},
   "source": [
    "\n",
    "---\n",
    "\n",
    "### Exercise 54:\n",
    "Compute the inverse of a 2x2 NumPy matrix.\n"
   ]
  },
  {
   "cell_type": "code",
   "execution_count": 57,
   "id": "d9eebfee",
   "metadata": {},
   "outputs": [
    {
     "name": "stdout",
     "output_type": "stream",
     "text": [
      "Original matrix:\n",
      " [[1 2]\n",
      " [3 4]]\n",
      "Inverse matrix:\n",
      " [[-2.   1. ]\n",
      " [ 1.5 -0.5]]\n"
     ]
    }
   ],
   "source": [
    "# Exercise 54\n",
    "import numpy as np\n",
    "\n",
    "# Define a 2x2 matrix\n",
    "matrix = np.array([[1, 2],\n",
    "                   [3, 4]])\n",
    "\n",
    "# Compute the inverse\n",
    "inverse_matrix = np.linalg.inv(matrix)\n",
    "\n",
    "print(\"Original matrix:\\n\", matrix)\n",
    "print(\"Inverse matrix:\\n\", inverse_matrix)\n",
    "\n"
   ]
  },
  {
   "cell_type": "markdown",
   "id": "d635d87b",
   "metadata": {},
   "source": [
    "\n",
    "---\n",
    "\n",
    "### Exercise 55:\n",
    "Create a NumPy array of 10 random values and standardize it (mean 0, variance 1).\n"
   ]
  },
  {
   "cell_type": "code",
   "execution_count": 58,
   "id": "dc8ffa7d",
   "metadata": {},
   "outputs": [
    {
     "name": "stdout",
     "output_type": "stream",
     "text": [
      "Standardized array: [ 0.55772162  0.67771641 -1.1066152  -0.72480399  1.40006985 -0.65454941\n",
      " -1.50010272 -0.6890691   0.64172654  1.397906  ]\n"
     ]
    }
   ],
   "source": [
    "# Exercise 55\n",
    "arr = np.random.rand(10)\n",
    "standardized = (arr - np.mean(arr)) / np.std(arr)\n",
    "print(\"Standardized array:\", standardized)\n"
   ]
  },
  {
   "cell_type": "markdown",
   "id": "6db1e281",
   "metadata": {},
   "source": [
    "\n",
    "---\n",
    "\n",
    "### Exercise 56:\n",
    "Perform element-wise addition and subtraction on two NumPy arrays.\n"
   ]
  },
  {
   "cell_type": "code",
   "execution_count": 59,
   "id": "e8d4d852",
   "metadata": {},
   "outputs": [
    {
     "name": "stdout",
     "output_type": "stream",
     "text": [
      "Addition: [5 7 9]\n",
      "Subtraction: [-3 -3 -3]\n"
     ]
    }
   ],
   "source": [
    "# Exercise 56\n",
    "a = np.array([1, 2, 3])\n",
    "b = np.array([4, 5, 6])\n",
    "add = a + b\n",
    "sub = a - b\n",
    "print(\"Addition:\", add)\n",
    "print(\"Subtraction:\", sub)\n"
   ]
  },
  {
   "cell_type": "markdown",
   "id": "843ba956",
   "metadata": {},
   "source": [
    "\n",
    "---\n",
    "\n",
    "### Exercise 57:\n",
    "Create a NumPy array of random values and find the maximum element's index.\n"
   ]
  },
  {
   "cell_type": "code",
   "execution_count": 60,
   "id": "e4cbc318",
   "metadata": {},
   "outputs": [
    {
     "name": "stdout",
     "output_type": "stream",
     "text": [
      "Array: [0.06621689 0.24570458 0.75278586 0.00628653 0.89252064 0.98666889\n",
      " 0.49604935 0.55132563 0.75307466 0.91439707]\n",
      "Index of max element: 5\n"
     ]
    }
   ],
   "source": [
    "# Exercise 57\n",
    "arr = np.random.rand(10)\n",
    "max_index = np.argmax(arr)\n",
    "print(\"Array:\", arr)\n",
    "print(\"Index of max element:\", max_index)\n"
   ]
  },
  {
   "cell_type": "markdown",
   "id": "e8356250",
   "metadata": {},
   "source": [
    "\n",
    "---\n",
    "\n",
    "### Exercise 58:\n",
    "Create a 3x3 NumPy array and rotate it by 90 degrees.\n"
   ]
  },
  {
   "cell_type": "code",
   "execution_count": 61,
   "id": "f80c6616",
   "metadata": {},
   "outputs": [
    {
     "name": "stdout",
     "output_type": "stream",
     "text": [
      "Rotated 90 degrees:\n",
      " [[3 6 9]\n",
      " [2 5 8]\n",
      " [1 4 7]]\n"
     ]
    }
   ],
   "source": [
    "# Exercise 58\n",
    "arr = np.array([[1, 2, 3], [4, 5, 6], [7, 8, 9]])\n",
    "rotated = np.rot90(arr)\n",
    "print(\"Rotated 90 degrees:\\n\", rotated)\n"
   ]
  },
  {
   "cell_type": "markdown",
   "id": "5bdbf96d",
   "metadata": {},
   "source": [
    "\n",
    "---\n",
    "\n",
    "### Exercise 59:\n",
    "Compute the Frobenius norm of a matrix.\n"
   ]
  },
  {
   "cell_type": "code",
   "execution_count": 62,
   "id": "bb81b41a",
   "metadata": {},
   "outputs": [
    {
     "name": "stdout",
     "output_type": "stream",
     "text": [
      "Frobenius norm: 5.477225575051661\n"
     ]
    }
   ],
   "source": [
    "# Exercise 59\n",
    "matrix = np.array([[1, 2], [3, 4]])\n",
    "frobenius_norm = np.linalg.norm(matrix, 'fro')\n",
    "print(\"Frobenius norm:\", frobenius_norm)\n"
   ]
  },
  {
   "cell_type": "markdown",
   "id": "9388b0db",
   "metadata": {},
   "source": [
    "\n",
    "---\n",
    "\n",
    "### Exercise 60:\n",
    "Create a 3D NumPy array and slice out a subarray.\n"
   ]
  },
  {
   "cell_type": "code",
   "execution_count": 64,
   "id": "f051d3a2",
   "metadata": {},
   "outputs": [
    {
     "name": "stdout",
     "output_type": "stream",
     "text": [
      "A 3D array slice:\n",
      " [[[ 9 10]\n",
      "  [12 13]\n",
      "  [15 16]]\n",
      "\n",
      " [[18 19]\n",
      "  [21 22]\n",
      "  [24 25]]]\n"
     ]
    }
   ],
   "source": [
    "# Exercise 60\n",
    "arr = np.arange(27).reshape(3, 3, 3)\n",
    "subarray = arr[1:, :, :2]\n",
    "print(\"A 3D array slice:\\n\", subarray)\n"
   ]
  },
  {
   "cell_type": "markdown",
   "id": "9cb79001",
   "metadata": {},
   "source": [
    "\n",
    "---"
   ]
  }
 ],
 "metadata": {
  "kernelspec": {
   "display_name": "Python [conda env:base] *",
   "language": "python",
   "name": "conda-base-py"
  },
  "language_info": {
   "codemirror_mode": {
    "name": "ipython",
    "version": 3
   },
   "file_extension": ".py",
   "mimetype": "text/x-python",
   "name": "python",
   "nbconvert_exporter": "python",
   "pygments_lexer": "ipython3",
   "version": "3.12.7"
  }
 },
 "nbformat": 4,
 "nbformat_minor": 5
}
